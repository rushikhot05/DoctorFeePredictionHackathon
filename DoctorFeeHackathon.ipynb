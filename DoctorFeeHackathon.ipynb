{
 "cells": [
  {
   "cell_type": "code",
   "execution_count": 1,
   "metadata": {},
   "outputs": [],
   "source": [
    "import numpy as np"
   ]
  },
  {
   "cell_type": "code",
   "execution_count": 2,
   "metadata": {},
   "outputs": [],
   "source": [
    "import pandas as pd"
   ]
  },
  {
   "cell_type": "code",
   "execution_count": 3,
   "metadata": {},
   "outputs": [],
   "source": [
    "import matplotlib.pyplot as plt"
   ]
  },
  {
   "cell_type": "code",
   "execution_count": 4,
   "metadata": {},
   "outputs": [],
   "source": [
    "import seaborn as sns"
   ]
  },
  {
   "cell_type": "code",
   "execution_count": 5,
   "metadata": {},
   "outputs": [],
   "source": [
    "%matplotlib inline"
   ]
  },
  {
   "cell_type": "code",
   "execution_count": 6,
   "metadata": {},
   "outputs": [],
   "source": [
    "import socket"
   ]
  },
  {
   "cell_type": "code",
   "execution_count": 7,
   "metadata": {},
   "outputs": [],
   "source": [
    "df = pd.read_excel('Final_Train.xlsx')"
   ]
  },
  {
   "cell_type": "code",
   "execution_count": 8,
   "metadata": {},
   "outputs": [],
   "source": [
    "df_test = pd.read_excel('Final_Test.xlsx')"
   ]
  },
  {
   "cell_type": "code",
   "execution_count": 9,
   "metadata": {},
   "outputs": [
    {
     "name": "stderr",
     "output_type": "stream",
     "text": [
      "/home/rushikesh/.local/lib/python3.6/site-packages/pandas/core/frame.py:6692: FutureWarning: Sorting because non-concatenation axis is not aligned. A future version\n",
      "of pandas will change to not sort by default.\n",
      "\n",
      "To accept the future behavior, pass 'sort=False'.\n",
      "\n",
      "To retain the current behavior and silence the warning, pass 'sort=True'.\n",
      "\n",
      "  sort=sort)\n"
     ]
    }
   ],
   "source": [
    "big_df = df.append(df_test)"
   ]
  },
  {
   "cell_type": "code",
   "execution_count": 10,
   "metadata": {},
   "outputs": [],
   "source": [
    "big_df['Qual_1'] = big_df['Qualification'].str.split(',').str[0]\n",
    "big_df['Qual_2'] = big_df['Qualification'].str.split(',').str[1]\n",
    "big_df['Qual_3'] = big_df['Qualification'].str.split(',').str[2]\n",
    "big_df['Qual_1'].fillna('XXX', inplace= True)\n",
    "big_df['Qual_2'].fillna('XXX', inplace= True)\n",
    "big_df['Qual_3'].fillna('XXX', inplace= True)"
   ]
  },
  {
   "cell_type": "code",
   "execution_count": 11,
   "metadata": {},
   "outputs": [],
   "source": [
    "big_df['years_exp'] = big_df['Experience'].str.slice(stop=2).astype(int)"
   ]
  },
  {
   "cell_type": "code",
   "execution_count": 12,
   "metadata": {},
   "outputs": [],
   "source": [
    "big_df['Rating'].fillna('0%', inplace=True)\n",
    "big_df['Rating'] = big_df['Rating'].str.slice(stop=1).astype(int)"
   ]
  },
  {
   "cell_type": "code",
   "execution_count": 13,
   "metadata": {},
   "outputs": [],
   "source": [
    "big_df['City'] = big_df['Place'].str.split(',').str[1]\n",
    "big_df['Locality'] = big_df['Place'].str.split(',').str[0]\n",
    "big_df['City'].fillna('XXX', inplace=True)\n",
    "big_df['Locality'].fillna('XXX', inplace=True)"
   ]
  },
  {
   "cell_type": "code",
   "execution_count": 14,
   "metadata": {},
   "outputs": [],
   "source": [
    "big_df['Misc'] = big_df['Miscellaneous_Info'].str.split('%').str[0]\n",
    "big_df['Misc_len'] = big_df['Misc'].str.len()\n",
    "big_df.loc[big_df['Misc_len']>3, 'Misc'] = 0\n",
    "big_df['Misc'].fillna(0,inplace = True)\n",
    "big_df['Misc'] = big_df['Misc'].astype(int)\n",
    "big_df['Misc_2'] = big_df['Miscellaneous_Info'].str.split('% ').str[1]\n",
    "big_df['Misc_3'] = big_df['Misc_2'].str.split(' ').str[0]\n",
    "big_df['Misc_3'].fillna(0,inplace = True)\n",
    "big_df['Misc_3_len'] = big_df['Misc_3'].str.len()\n",
    "big_df.loc[big_df['Misc_3_len']>3, 'Misc_3'] = 0\n",
    "big_df.loc[big_df['Misc_3']==',', 'Misc_3'] = 0\n",
    "big_df['Misc_3'] = big_df['Misc_3'].astype(int)"
   ]
  },
  {
   "cell_type": "code",
   "execution_count": 15,
   "metadata": {},
   "outputs": [],
   "source": [
    "big_df = big_df.drop(big_df[['Experience', 'Miscellaneous_Info', 'Place', 'Qualification', 'Misc_len', 'Misc_3_len']], axis =1)\n",
    "df_train = big_df[0:5961]\n",
    "df_test = big_df[5961:]\n",
    "df_test = df_test.drop(['Fees'], axis=1)"
   ]
  },
  {
   "cell_type": "code",
   "execution_count": 16,
   "metadata": {},
   "outputs": [],
   "source": [
    "from sklearn.preprocessing import LabelEncoder\n",
    "\n",
    "lb_encode = LabelEncoder()\n",
    "df_test['Qual_1_code'] = lb_encode.fit_transform(df_test['Qual_1'])\n",
    "df_test['Qual_2_code'] = lb_encode.fit_transform(df_test['Qual_2'])\n",
    "df_test['Qual_3_code'] = lb_encode.fit_transform(df_test['Qual_3'])\n",
    "\n",
    "df_test['Profile_code'] = lb_encode.fit_transform(df_test['Profile'])\n",
    "df_test['City_code'] = lb_encode.fit_transform(df_test['City'])\n",
    "df_test['Locality_code'] = lb_encode.fit_transform(df_test['Locality'])"
   ]
  },
  {
   "cell_type": "code",
   "execution_count": 17,
   "metadata": {},
   "outputs": [],
   "source": [
    "df_test_merge_1 = df_test[['Qual_1', 'Qual_1_code']].drop_duplicates()\n",
    "df_test_merge_2 = df_test[['Qual_2', 'Qual_2_code']].drop_duplicates()\n",
    "df_test_merge_3 = df_test[['Qual_3', 'Qual_3_code']].drop_duplicates()\n",
    "df_test_merge_4 = df_test[['Profile', 'Profile_code']].drop_duplicates()\n",
    "df_test_merge_5 = df_test[['City', 'City_code']].drop_duplicates()\n",
    "df_test_merge_6 = df_test[['Locality', 'Locality_code']].drop_duplicates()"
   ]
  },
  {
   "cell_type": "code",
   "execution_count": 18,
   "metadata": {},
   "outputs": [],
   "source": [
    "df_train = pd.merge(df_train, df_test_merge_1[['Qual_1', 'Qual_1_code']], on='Qual_1', how='left')\n",
    "df_train = pd.merge(df_train, df_test_merge_2[['Qual_2', 'Qual_2_code']], on='Qual_2', how='left')\n",
    "df_train = pd.merge(df_train, df_test_merge_3[['Qual_3', 'Qual_3_code']], on='Qual_3', how='left')\n",
    "df_train = pd.merge(df_train, df_test_merge_4[['Profile', 'Profile_code']], on='Profile', how='left')\n",
    "df_train = pd.merge(df_train, df_test_merge_5[['City', 'City_code']], on='City', how='left')\n",
    "df_train = pd.merge(df_train, df_test_merge_6[['Locality', 'Locality_code']], on='Locality', how='left')"
   ]
  },
  {
   "cell_type": "code",
   "execution_count": 19,
   "metadata": {},
   "outputs": [],
   "source": [
    "df_xgb = df_train[['Qual_1_code', 'Qual_2_code', 'Qual_3_code','years_exp', 'Rating', 'Profile_code', 'City_code', 'Misc', 'Misc_3', 'Fees']]\n",
    "X = df_xgb.drop(['Fees'], axis=1)\n",
    "y = df_xgb.Fees"
   ]
  },
  {
   "cell_type": "code",
   "execution_count": 27,
   "metadata": {},
   "outputs": [],
   "source": [
    "#import xgboost as xgb\n",
    "#from sklearn.metrics import mean_squared_error\n",
    "#data_dmatrix = xgb.DMatrix(data=X, label=y)\n",
    "from sklearn.tree import DecisionTreeRegressor"
   ]
  },
  {
   "cell_type": "code",
   "execution_count": 56,
   "metadata": {},
   "outputs": [],
   "source": [
    "from sklearn.model_selection import train_test_split\n",
    "X_train, X_test, y_train, y_test = train_test_split(X,y, test_size = 0.3, random_state=123)\n",
    "\n",
    "#dtr = DecisionTreeRegressor()\n",
    "#dtr.fit(X_train, y_train)\n",
    "xg_reg = xgb.XGBRegressor(objective = 'reg:linear', colsample_bytree = 0.3, learning_rate = 0.01, max_depth = 5, n_estimators = 800)\n",
    "xg_reg.fit(X_train, y_train)\n",
    "preds = xg_reg.predict(X_test)"
   ]
  },
  {
   "cell_type": "code",
   "execution_count": 57,
   "metadata": {},
   "outputs": [
    {
     "name": "stdout",
     "output_type": "stream",
     "text": [
      "RMSE: 171.335120\n"
     ]
    },
    {
     "name": "stderr",
     "output_type": "stream",
     "text": [
      "/home/rushikesh/.local/lib/python3.6/site-packages/ipykernel_launcher.py:7: SettingWithCopyWarning: \n",
      "A value is trying to be set on a copy of a slice from a DataFrame.\n",
      "Try using .loc[row_indexer,col_indexer] = value instead\n",
      "\n",
      "See the caveats in the documentation: http://pandas.pydata.org/pandas-docs/stable/indexing.html#indexing-view-versus-copy\n",
      "  import sys\n"
     ]
    }
   ],
   "source": [
    "rmse = np.sqrt(mean_squared_error(y_test, preds))\n",
    "print(\"RMSE: %f\" %(rmse))\n",
    "\n",
    "df_test_xgb = df_test[['Qual_1_code', 'Qual_2_code', 'Qual_3_code','years_exp', 'Rating', 'Profile_code', 'City_code', 'Misc', 'Misc_3']]\n",
    "\n",
    "preds_1 = xg_reg.predict(df_test_xgb)\n",
    "df_test_xgb['Fees'] = preds_1\n",
    "df_test_xgb.to_excel('submission.xlsx')"
   ]
  },
  {
   "cell_type": "code",
   "execution_count": null,
   "metadata": {},
   "outputs": [],
   "source": []
  }
 ],
 "metadata": {
  "kernelspec": {
   "display_name": "Python 3",
   "language": "python",
   "name": "python3"
  },
  "language_info": {
   "codemirror_mode": {
    "name": "ipython",
    "version": 3
   },
   "file_extension": ".py",
   "mimetype": "text/x-python",
   "name": "python",
   "nbconvert_exporter": "python",
   "pygments_lexer": "ipython3",
   "version": "3.6.7"
  }
 },
 "nbformat": 4,
 "nbformat_minor": 2
}
